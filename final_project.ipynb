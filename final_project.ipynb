{
 "cells": [
  {
   "cell_type": "code",
   "execution_count": 1,
   "metadata": {},
   "outputs": [],
   "source": [
    "# Mengimpor library yang dibutuhkan\n",
    "import pandas as pd\n",
    "import numpy as np\n",
    "import seaborn as sns\n",
    "import csv\n",
    "import matplotlib.pyplot as plt\n",
    "from sklearn.model_selection import train_test_split\n",
    "from sklearn.feature_extraction.text import TfidfVectorizer\n",
    "from sklearn.linear_model import LogisticRegression\n",
    "from sklearn.metrics import accuracy_score, confusion_matrix, classification_report"
   ]
  },
  {
   "cell_type": "code",
   "execution_count": 2,
   "metadata": {},
   "outputs": [],
   "source": [
    "# Fungsi untuk membaca dataset dalam mode tekstual dan membersihkan data yang rusak\n",
    "def read_clean_csv(file_path):\n",
    "    rows = []\n",
    "    with open(file_path, 'r', encoding='utf-8') as file:\n",
    "        reader = csv.reader(file)\n",
    "        header = next(reader)\n",
    "        for row in reader:\n",
    "            if len(row) == len(header):  # Memastikan jumlah kolom sesuai dengan header\n",
    "                rows.append(row)\n",
    "    return pd.DataFrame(rows, columns=header)\n"
   ]
  },
  {
   "cell_type": "code",
   "execution_count": 3,
   "metadata": {},
   "outputs": [],
   "source": [
    "# Membaca dan membersihkan dataset\n",
    "data = read_clean_csv(\"D:/shaff/kuliah/#semester4/machine learning/IMDB Dataset.csv\")\n",
    "\n",
    "# Membersihkan Dataset\n",
    "data = data.drop_duplicates()  # Menghapus data duplikat\n",
    "data = data.dropna()  # Menghapus baris dengan data yang tidak lengkap\n",
    "data['review'] = data['review'].str.lower()  # Mengonversi teks ulasan menjadi huruf kecil\n"
   ]
  },
  {
   "cell_type": "code",
   "execution_count": 4,
   "metadata": {},
   "outputs": [
    {
     "name": "stdout",
     "output_type": "stream",
     "text": [
      "                                              review sentiment\n",
      "0  one of the other reviewers has mentioned that ...  positive\n",
      "1  a wonderful little production. <br /><br />the...  positive\n",
      "2  i thought this was a wonderful way to spend ti...  positive\n",
      "3  basically there's a family where a little boy ...  negative\n",
      "4  petter mattei's \"love in the time of money\" is...  positive\n"
     ]
    }
   ],
   "source": [
    "# Menampilkan beberapa baris pertama dari dataset untuk memastikan berhasil dibaca\n",
    "print(data.head())"
   ]
  },
  {
   "cell_type": "code",
   "execution_count": 5,
   "metadata": {},
   "outputs": [
    {
     "name": "stdout",
     "output_type": "stream",
     "text": [
      "<class 'pandas.core.frame.DataFrame'>\n",
      "Index: 49582 entries, 0 to 49999\n",
      "Data columns (total 2 columns):\n",
      " #   Column     Non-Null Count  Dtype \n",
      "---  ------     --------------  ----- \n",
      " 0   review     49582 non-null  object\n",
      " 1   sentiment  49582 non-null  object\n",
      "dtypes: object(2)\n",
      "memory usage: 1.1+ MB\n",
      "None\n"
     ]
    }
   ],
   "source": [
    "# Menampilkan informasi dataset untuk memastikan pembersihan berhasil\n",
    "print(data.info())"
   ]
  },
  {
   "cell_type": "code",
   "execution_count": null,
   "metadata": {},
   "outputs": [],
   "source": []
  }
 ],
 "metadata": {
  "kernelspec": {
   "display_name": "Python 3",
   "language": "python",
   "name": "python3"
  },
  "language_info": {
   "codemirror_mode": {
    "name": "ipython",
    "version": 3
   },
   "file_extension": ".py",
   "mimetype": "text/x-python",
   "name": "python",
   "nbconvert_exporter": "python",
   "pygments_lexer": "ipython3",
   "version": "3.11.5"
  }
 },
 "nbformat": 4,
 "nbformat_minor": 2
}
